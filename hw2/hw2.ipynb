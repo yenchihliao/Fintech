{
 "cells": [
  {
   "cell_type": "code",
   "execution_count": 1,
   "metadata": {},
   "outputs": [
    {
     "name": "stdout",
     "output_type": "stream",
     "text": [
      "/usr/bin/python3.6\n"
     ]
    }
   ],
   "source": [
    "import sys\n",
    "print(sys.executable)"
   ]
  },
  {
   "cell_type": "code",
   "execution_count": 2,
   "metadata": {},
   "outputs": [],
   "source": [
    "import sys\n",
    "import matplotlib.pyplot as plt\n",
    "from Strats import Lazy, Naive, Conserv_Lazy, Conserv"
   ]
  },
  {
   "cell_type": "code",
   "execution_count": 3,
   "metadata": {},
   "outputs": [],
   "source": [
    "class Evaluate:\n",
    "    pw = [100000000, 1000000, 10000, 100]\n",
    "    maxVal = 0\n",
    "    maxArg = []\n",
    "    def __init__(self, cls, data):\n",
    "        self.cls = cls\n",
    "        self.data = data\n",
    "    def ReturnRate(self, args):\n",
    "        ret = self.cls(self.data, args)\n",
    "        self.cls.reset()\n",
    "        print(\"with:\", args, ret)\n",
    "        return ret\n",
    "    def loopOver(self, Layer, args):\n",
    "        if(Layer >= self.cls.arg_count):\n",
    "            tmp = self.ReturnRate(args)\n",
    "            if tmp > self.maxVal:\n",
    "                self.maxVal = tmp\n",
    "                self.maxArg = args[:]\n",
    "            return\n",
    "        for i in range(self.cls.minArg[Layer], self.cls.MaxArg[Layer]):\n",
    "            #print(\"Layer\", Layer)\n",
    "            args[Layer] = i\n",
    "            self.loopOver(Layer+1, args)\n",
    "    def FindOptArgs(self):\n",
    "        self.loopOver(0, [0]*self.cls.arg_count)\n",
    "        return self.maxVal, self.maxArg\n",
    "    \n",
    "    def name(self):\n",
    "        return self.cls.name"
   ]
  },
  {
   "cell_type": "code",
   "execution_count": 4,
   "metadata": {},
   "outputs": [
    {
     "name": "stdout",
     "output_type": "stream",
     "text": [
      "with: [3] 17929.580702000007\n",
      "with: [4] 21671.592202999993\n",
      "with: [5] 22870.14589699999\n",
      "with: [6] 20979.918485\n",
      "with: [7] 22766.336822999998\n",
      "with: [8] 26513.642382\n",
      "with: [9] 26513.642382\n",
      "Conserv (26513.642382, [8]) DSI.csv\n",
      "with: [3] 14697.871218999997\n",
      "with: [4] 23047.186999999984\n",
      "with: [5] 25356.597999999998\n",
      "with: [6] 18339.166\n",
      "with: [7] 18386.941999999995\n",
      "with: [8] 29970.681999999997\n",
      "with: [9] 33024.202\n",
      "Conserv (33024.202, [9]) IAU.csv\n",
      "with: [3] 17209.014568999995\n",
      "with: [4] 16092.568816000008\n",
      "with: [5] 19075.608160000007\n",
      "with: [6] 13883.765967999998\n",
      "with: [7] 13648.577164000002\n",
      "with: [8] 12974.707896999998\n",
      "with: [9] 12738.143685000001\n",
      "Conserv (19075.608160000007, [5]) LQD.csv\n",
      "with: [3] 16891.644397000004\n",
      "with: [4] 17235.78595899999\n",
      "with: [5] 17154.041326000006\n",
      "with: [6] 24181.442921999995\n",
      "with: [7] 32172.998273000005\n",
      "with: [8] 32960.78845\n",
      "with: [9] 32960.78845\n",
      "Conserv (32960.78845, [8]) SPY.csv\n"
     ]
    }
   ],
   "source": [
    "# Process input\n",
    "#DSI, IAU, LQD, SPY\n",
    "files = ['DSI.csv', 'IAU.csv', 'LQD.csv', 'SPY.csv']\n",
    "for file in files:\n",
    "    f = open(file, 'r')\n",
    "    closeP = []\n",
    "    i = 0\n",
    "    f.readline()\n",
    "    while(True):\n",
    "        line = f.readline()\n",
    "        if not line:\n",
    "            break\n",
    "        closeP.append(float(line.split(',')[5]))\n",
    "    s = Conserv()\n",
    "    e = Evaluate(s, closeP)\n",
    "    print(e.name(), e.FindOptArgs(), file)\n",
    "    #plt.plot(closeP, label=file)\n",
    "    #plt.show()"
   ]
  },
  {
   "cell_type": "code",
   "execution_count": null,
   "metadata": {},
   "outputs": [],
   "source": []
  },
  {
   "cell_type": "code",
   "execution_count": null,
   "metadata": {},
   "outputs": [],
   "source": []
  }
 ],
 "metadata": {
  "kernelspec": {
   "display_name": "Python 3",
   "language": "python",
   "name": "python3"
  },
  "language_info": {
   "codemirror_mode": {
    "name": "ipython",
    "version": 3
   },
   "file_extension": ".py",
   "mimetype": "text/x-python",
   "name": "python",
   "nbconvert_exporter": "python",
   "pygments_lexer": "ipython3",
   "version": "3.6.9"
  }
 },
 "nbformat": 4,
 "nbformat_minor": 2
}
