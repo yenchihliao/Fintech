{
 "cells": [
  {
   "cell_type": "code",
   "execution_count": 1,
   "metadata": {},
   "outputs": [],
   "source": [
    "import sys\n",
    "import matplotlib.pyplot as plt"
   ]
  },
  {
   "cell_type": "code",
   "execution_count": 16,
   "metadata": {},
   "outputs": [],
   "source": [
    "class Trader():\n",
    "    def __init__(self):\n",
    "        self.fund = 10000 # money in pocket\n",
    "        self.bought = 0 # price when bought\n",
    "        self.share = 0 # shares holding\n",
    "    def buy(self, data, day):\n",
    "        if(not self.bought):\n",
    "            self.bought = data[day]\n",
    "            self.share = self.fund//self.bought\n",
    "            self.fund = self.fund%self.bought\n",
    "    def sell(self, data, day):\n",
    "        if(self.bought > 0):\n",
    "            self.fund += self.share * data[day]\n",
    "            self.bought = 0\n",
    "            self.share = 0\n",
    "            #print('sell on day {}: {}'.format(day, self.fund))\n",
    "    def final(self, data):\n",
    "        return self.fund + self.share*data[-1]\n",
    "    def reset(self):\n",
    "        self.fund = 10000 # money in pocket\n",
    "        self.bought = 0 # price when bought\n",
    "        self.share = 0 # shares holding"
   ]
  },
  {
   "cell_type": "code",
   "execution_count": 17,
   "metadata": {},
   "outputs": [],
   "source": [
    "class Strat_Naive(Trader):\n",
    "    # set argment number and limitation\n",
    "    name = 'naive'\n",
    "    arg_count = 0\n",
    "    # Trade with the strategy\n",
    "    def __call__(self, data, *args):\n",
    "        pre_price  = 0\n",
    "        for day in range(len(data)):\n",
    "            if data[day] > pre_price:\n",
    "                self.buy(data, day)\n",
    "            else:\n",
    "                self.sell(data, day)\n",
    "            pre_price = data[day]\n",
    "        return self.final(data)"
   ]
  },
  {
   "cell_type": "code",
   "execution_count": 31,
   "metadata": {},
   "outputs": [],
   "source": [
    "class Strat_Conserv_Naive(Trader):\n",
    "    # set argment number and limitation\n",
    "    name = 'conserv'\n",
    "    arg_count = 1\n",
    "    # Trade with the strategy\n",
    "    def __call__(self, data, *args):\n",
    "        arg1 = args[0]//20\n",
    "        self.buy(data, 0)\n",
    "        rise4 = 0\n",
    "        fall4 = 0\n",
    "        \n",
    "        pre_price  = 0\n",
    "        for day in range(len(data)):\n",
    "            if data[day] > pre_price:\n",
    "                rise4+=1\n",
    "                if rise4 > arg1:\n",
    "                    rise4 = 0\n",
    "                    self.buy(data, day)\n",
    "            else:\n",
    "                fall4+=1\n",
    "                if fall4 > arg1:\n",
    "                    fall4 = 0\n",
    "                    self.sell(data, day)\n",
    "            pre_price = data[day]\n",
    "        #print(self.final(data), arg1)\n",
    "        return self.final(data)"
   ]
  },
  {
   "cell_type": "code",
   "execution_count": 32,
   "metadata": {},
   "outputs": [],
   "source": [
    "class Strat_Lazy(Trader):\n",
    "    name = 'lazy'\n",
    "    arg_count = 0\n",
    "    argm = []\n",
    "    argM = []\n",
    "    def __call__(self, data, *args):\n",
    "        self.buy(data, 0)\n",
    "        self.sell(data, len(data) - 1)\n",
    "        return self.final(data)"
   ]
  },
  {
   "cell_type": "code",
   "execution_count": 33,
   "metadata": {},
   "outputs": [],
   "source": [
    "class Evaluate:\n",
    "    pw = [100000000, 1000000, 10000, 100]\n",
    "    def __init__(self, cls, data):\n",
    "        self.cls = cls\n",
    "        self.data = data\n",
    "    def FindOptArgs(self):\n",
    "        maxVal = 0\n",
    "        maxArg = 0\n",
    "        for i in range(100**self.cls.arg_count):\n",
    "            #args = []\n",
    "            #print(args)\n",
    "            tmp = self.cls(self.data, i%100, i/self.pw[3]%100, i/self.pw[2]%100, i/self.pw[1]%100, i/self.pw[0])\n",
    "            #print('###', tmp, i)\n",
    "            if  tmp > maxVal:\n",
    "                maxVal = tmp\n",
    "                maxArg = i\n",
    "            self.cls.reset()\n",
    "        return maxVal, maxArg\n",
    "    def ReturnRate(self, *args):\n",
    "        return self.cls(self.data, *args)\n",
    "    def name(self):\n",
    "        return self.cls.name"
   ]
  },
  {
   "cell_type": "code",
   "execution_count": 36,
   "metadata": {},
   "outputs": [
    {
     "name": "stdout",
     "output_type": "stream",
     "text": [
      "naive (10617.971079000026, 0) DSI.csv\n",
      "naive (10828.791561999973, 0) IAU.csv\n",
      "naive (12946.338492000024, 0) LQD.csv\n",
      "naive (9925.184277000011, 0) SPY.csv\n"
     ]
    }
   ],
   "source": [
    "# Process input\n",
    "#DSI, IAU, LQD, SPY\n",
    "files = ['DSI.csv', 'IAU.csv', 'LQD.csv', 'SPY.csv']\n",
    "for file in files:\n",
    "    f = open(file, 'r')\n",
    "    closeP = []\n",
    "    i = 0\n",
    "    f.readline()\n",
    "    while(True):\n",
    "        line = f.readline()\n",
    "        if not line:\n",
    "            break\n",
    "        closeP.append(float(line.split(',')[5]))\n",
    "    s = Strat_Naive()\n",
    "    e = Evaluate(s, closeP)\n",
    "    print(e.name(), e.FindOptArgs(), file)\n",
    "    #plt.plot(closeP, label=file)\n",
    "    #plt.show()"
   ]
  },
  {
   "cell_type": "code",
   "execution_count": 25,
   "metadata": {},
   "outputs": [
    {
     "name": "stdout",
     "output_type": "stream",
     "text": [
      "\n"
     ]
    }
   ],
   "source": [
    "print()"
   ]
  },
  {
   "cell_type": "code",
   "execution_count": null,
   "metadata": {},
   "outputs": [],
   "source": []
  }
 ],
 "metadata": {
  "kernelspec": {
   "display_name": "Python 3",
   "language": "python",
   "name": "python3"
  },
  "language_info": {
   "codemirror_mode": {
    "name": "ipython",
    "version": 3
   },
   "file_extension": ".py",
   "mimetype": "text/x-python",
   "name": "python",
   "nbconvert_exporter": "python",
   "pygments_lexer": "ipython3",
   "version": "3.7.4"
  }
 },
 "nbformat": 4,
 "nbformat_minor": 2
}
