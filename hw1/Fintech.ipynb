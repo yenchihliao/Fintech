{
 "cells": [
  {
   "cell_type": "code",
   "execution_count": 1,
   "metadata": {},
   "outputs": [],
   "source": [
    "import os\n",
    "import sys\n",
    "import numpy as np"
   ]
  },
  {
   "cell_type": "code",
   "execution_count": 2,
   "metadata": {},
   "outputs": [],
   "source": [
    "class Tx:\n",
    "    def __init__(self, args):#deal_date, product, due_month, deal_time, deal_price):\n",
    "        self._deal_date = args[0].strip()#deal_date \n",
    "        self._product = args[1].strip()#product\n",
    "        self._due_month = args[2].strip()#due_month\n",
    "        self._deal_time = int(args[3].strip())#deal_time\n",
    "        self._deal_price = float(args[4].strip())#deal_price\n",
    "    def show(self):\n",
    "        print(self._deal_date, self._product, self._due_month, self._deal_time, self._deal_price)"
   ]
  },
  {
   "cell_type": "code",
   "execution_count": 3,
   "metadata": {},
   "outputs": [],
   "source": [
    "class LegalTx():\n",
    "    def __init__(self):\n",
    "        self._list = []\n",
    "        self._min_month = 10000000\n",
    "    def tryAdd(self, tx):\n",
    "        if tx._product != 'TX':\n",
    "            return\n",
    "        if tx._deal_time < 84500:\n",
    "            return\n",
    "        if tx._deal_time > 134500:\n",
    "            return\n",
    "        if len(tx._due_month) != 6:\n",
    "            return\n",
    "        if int(tx._due_month) > int(self._min_month):\n",
    "            return\n",
    "        if int(tx._due_month) < int(self._min_month):\n",
    "            self._min_month = tx._due_month\n",
    "            self._list = []\n",
    "        self._list.append(tx)\n",
    "    def show(self):\n",
    "        for e in self._list:\n",
    "            e.show()"
   ]
  },
  {
   "cell_type": "code",
   "execution_count": 4,
   "metadata": {},
   "outputs": [],
   "source": [
    "f = open('Daily_2019_09_20.csv', 'r', encoding='big5')"
   ]
  },
  {
   "cell_type": "code",
   "execution_count": 5,
   "metadata": {},
   "outputs": [],
   "source": [
    "count = 0\n",
    "txList = LegalTx()\n",
    "f.readline()\n",
    "while True:\n",
    "    line = f.readline()\n",
    "    if not line:\n",
    "        break\n",
    "    txList.tryAdd(Tx(line.split(',')))\n",
    "    count += 1\n"
   ]
  },
  {
   "cell_type": "code",
   "execution_count": 8,
   "metadata": {},
   "outputs": [
    {
     "name": "stdout",
     "output_type": "stream",
     "text": [
      "10901 10912 10884 10901\n"
     ]
    }
   ],
   "source": [
    "first = txList._list[0]._deal_price\n",
    "last = txList._list[len(txList._list) - 1]._deal_price\n",
    "pMax = first\n",
    "for tx in txList._list:\n",
    "    if tx._deal_price > pMax:\n",
    "        pMax = tx._deal_price\n",
    "pMin = first\n",
    "for tx in txList._list:\n",
    "    if tx._deal_price < pMin:\n",
    "        pMin = tx._deal_price\n",
    "print(int(first), int(pMax), int(pMin), int(last))"
   ]
  },
  {
   "cell_type": "code",
   "execution_count": null,
   "metadata": {},
   "outputs": [],
   "source": []
  }
 ],
 "metadata": {
  "kernelspec": {
   "display_name": "Python 3",
   "language": "python",
   "name": "python3"
  },
  "language_info": {
   "codemirror_mode": {
    "name": "ipython",
    "version": 3
   },
   "file_extension": ".py",
   "mimetype": "text/x-python",
   "name": "python",
   "nbconvert_exporter": "python",
   "pygments_lexer": "ipython3",
   "version": "3.7.4"
  }
 },
 "nbformat": 4,
 "nbformat_minor": 2
}
